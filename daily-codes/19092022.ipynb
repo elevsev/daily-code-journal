{
 "cells": [
  {
   "cell_type": "code",
   "execution_count": 1,
   "metadata": {},
   "outputs": [
    {
     "name": "stderr",
     "output_type": "stream",
     "text": [
      "/Users/Kerryn/opt/anaconda3/envs/daily_code_journal/lib/python3.9/site-packages/past/builtins/misc.py:45: DeprecationWarning: the imp module is deprecated in favour of importlib; see the module's documentation for alternative uses\n",
      "  from imp import reload\n"
     ]
    }
   ],
   "source": [
    "from FUNCTIONS.data_functions import LDASetUp\n",
    "import pyLDAvis\n",
    "import pyLDAvis.gensim_models"
   ]
  },
  {
   "cell_type": "code",
   "execution_count": null,
   "metadata": {},
   "outputs": [],
   "source": [
    "data = \"/Users/Kerryn/daily-code-journal/daily-codes/DATA/lemmatised_data_ushmm.json\"\n",
    "\n",
    "lda_setup = LDASetUp(data=data)\n",
    "\n",
    "lda_model = lda_setup.lda_model()"
   ]
  }
 ],
 "metadata": {
  "kernelspec": {
   "display_name": "Python 3.9.12 ('daily_code_journal')",
   "language": "python",
   "name": "python3"
  },
  "language_info": {
   "codemirror_mode": {
    "name": "ipython",
    "version": 3
   },
   "file_extension": ".py",
   "mimetype": "text/x-python",
   "name": "python",
   "nbconvert_exporter": "python",
   "pygments_lexer": "ipython3",
   "version": "3.9.12"
  },
  "orig_nbformat": 4,
  "vscode": {
   "interpreter": {
    "hash": "0afdde1919a473d0d23c0b9fa86be1848e58b519f60d92f1f703b23a9253cb75"
   }
  }
 },
 "nbformat": 4,
 "nbformat_minor": 2
}
